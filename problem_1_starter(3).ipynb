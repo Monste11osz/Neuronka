{
  "cells": [
    {
      "cell_type": "markdown",
      "metadata": {
        "id": "atqZGIIyNSBb"
      },
      "source": [
        "#**Практическое задание №1**"
      ]
    },
    {
      "cell_type": "markdown",
      "metadata": {
        "id": "ga5g3lUhNNBy"
      },
      "source": [
        "Установка необходимых пакетов:"
      ]
    },
    {
      "cell_type": "code",
      "execution_count": 1,
      "metadata": {
        "id": "TGBk36LpukIu",
        "colab": {
          "base_uri": "https://localhost:8080/"
        },
        "outputId": "3efb3949-28f7-4fa5-ecc7-d007cbc27265"
      },
      "outputs": [
        {
          "output_type": "stream",
          "name": "stdout",
          "text": [
            "Requirement already satisfied: gdown in /usr/local/lib/python3.10/dist-packages (5.2.0)\n",
            "Requirement already satisfied: beautifulsoup4 in /usr/local/lib/python3.10/dist-packages (from gdown) (4.12.3)\n",
            "Requirement already satisfied: filelock in /usr/local/lib/python3.10/dist-packages (from gdown) (3.16.1)\n",
            "Requirement already satisfied: requests[socks] in /usr/local/lib/python3.10/dist-packages (from gdown) (2.32.3)\n",
            "Requirement already satisfied: tqdm in /usr/local/lib/python3.10/dist-packages (from gdown) (4.66.6)\n",
            "Requirement already satisfied: soupsieve>1.2 in /usr/local/lib/python3.10/dist-packages (from beautifulsoup4->gdown) (2.6)\n",
            "Requirement already satisfied: charset-normalizer<4,>=2 in /usr/local/lib/python3.10/dist-packages (from requests[socks]->gdown) (3.4.0)\n",
            "Requirement already satisfied: idna<4,>=2.5 in /usr/local/lib/python3.10/dist-packages (from requests[socks]->gdown) (3.10)\n",
            "Requirement already satisfied: urllib3<3,>=1.21.1 in /usr/local/lib/python3.10/dist-packages (from requests[socks]->gdown) (2.2.3)\n",
            "Requirement already satisfied: certifi>=2017.4.17 in /usr/local/lib/python3.10/dist-packages (from requests[socks]->gdown) (2024.8.30)\n",
            "Requirement already satisfied: PySocks!=1.5.7,>=1.5.6 in /usr/local/lib/python3.10/dist-packages (from requests[socks]->gdown) (1.7.1)\n"
          ]
        }
      ],
      "source": [
        "!pip install -q tqdm\n",
        "!pip install --upgrade --no-cache-dir gdown"
      ]
    },
    {
      "cell_type": "markdown",
      "metadata": {
        "id": "2vQDLyHEO1Ux"
      },
      "source": [
        "Монтирование Вашего Google Drive к текущему окружению:"
      ]
    },
    {
      "cell_type": "code",
      "execution_count": 2,
      "metadata": {
        "id": "5G5KkA1Nu5M9",
        "colab": {
          "base_uri": "https://localhost:8080/"
        },
        "outputId": "7250c63e-ffa4-4a2a-adda-2be9a583f82b"
      },
      "outputs": [
        {
          "output_type": "stream",
          "name": "stdout",
          "text": [
            "Mounted at /content/drive\n"
          ]
        }
      ],
      "source": [
        "from google.colab import drive\n",
        "drive.mount('/content/drive', force_remount=True)"
      ]
    },
    {
      "cell_type": "markdown",
      "metadata": {
        "id": "0Num5lHV6912"
      },
      "source": [
        "Константы, которые пригодятся в коде далее, и ссылки (gdrive идентификаторы) на предоставляемые наборы данных:"
      ]
    },
    {
      "cell_type": "code",
      "execution_count": 3,
      "metadata": {
        "id": "ab2yCwDm7Fqb"
      },
      "outputs": [],
      "source": [
        "EVALUATE_ONLY = False\n",
        "TEST_ON_LARGE_DATASET = True\n",
        "TISSUE_CLASSES = ('ADI', 'BACK', 'DEB', 'LYM', 'MUC', 'MUS', 'NORM', 'STR', 'TUM')\n",
        "DATASETS_LINKS = {\n",
        "    'train': '1JFaqaH7QY5PiWUcXzVkQl7H195P-EQVG',\n",
        "    'train_small': '1qd45xXfDwdZjktLFwQb-et-mAaFeCzOR',\n",
        "    'train_tiny': '1I-2ZOuXLd4QwhZQQltp817Kn3J0Xgbui',\n",
        "    'test': '1UW3O9J4bP7OEQZKRKPQvBuEqL_kjhadQ',\n",
        "    'test_small': '1wbRsog0n7uGlHIPGLhyN-PMeT2kdQ2lI',\n",
        "    'test_tiny': '1viiB0s041CNsAK4itvX8PnYthJ-MDnQc'\n",
        "}"
      ]
    },
    {
      "cell_type": "markdown",
      "metadata": {
        "id": "fgY-ux5qOI0k"
      },
      "source": [
        "Импорт необходимых зависимостей:"
      ]
    },
    {
      "cell_type": "code",
      "execution_count": 4,
      "metadata": {
        "id": "kLHQhqiSIyvK"
      },
      "outputs": [],
      "source": [
        "from pathlib import Path\n",
        "import numpy as np\n",
        "from typing import List\n",
        "from tqdm.notebook import tqdm\n",
        "from time import sleep\n",
        "from PIL import Image\n",
        "import IPython.display\n",
        "from sklearn.metrics import balanced_accuracy_score\n",
        "import gdown\n",
        "import torch\n",
        "import torch.nn as nn\n",
        "import torch.optim as optim\n",
        "from torch.utils.data import DataLoader, TensorDataset\n",
        "import torchvision.transforms as transforms"
      ]
    },
    {
      "cell_type": "markdown",
      "metadata": {
        "id": "zKLI3lUyMYO9"
      },
      "source": [
        "---\n",
        "### Класс Dataset\n",
        "\n",
        "Предназначен для работы с наборами данных, обеспечивает чтение изображений и соответствующих меток, а также формирование пакетов (батчей)."
      ]
    },
    {
      "cell_type": "code",
      "execution_count": 5,
      "metadata": {
        "id": "8N169efsw1ej"
      },
      "outputs": [],
      "source": [
        "class Dataset:\n",
        "\n",
        "    def __init__(self, name):\n",
        "        self.name = name\n",
        "        self.is_loaded = False\n",
        "        url = f\"https://drive.google.com/uc?export=download&confirm=pbef&id={DATASETS_LINKS[name]}\"\n",
        "        output = f'{name}.npz'\n",
        "        gdown.download(url, output, quiet=False)\n",
        "        print(f'Loading dataset {self.name} from npz.')\n",
        "        np_obj = np.load(f'{name}.npz')\n",
        "        self.images = np_obj['data']\n",
        "        self.labels = np_obj['labels']\n",
        "        self.n_files = self.images.shape[0]\n",
        "        self.is_loaded = True\n",
        "        print(f'Done. Dataset {name} consists of {self.n_files} images.')\n",
        "\n",
        "    def image(self, i):\n",
        "        # read i-th image in dataset and return it as numpy array\n",
        "        if self.is_loaded:\n",
        "            return self.images[i, :, :, :]\n",
        "\n",
        "    def images_seq(self, n=None):\n",
        "        # sequential access to images inside dataset (is needed for testing)\n",
        "        for i in range(self.n_files if not n else n):\n",
        "            yield self.image(i)\n",
        "\n",
        "    def random_image_with_label(self):\n",
        "        # get random image with label from dataset\n",
        "        i = np.random.randint(self.n_files)\n",
        "        return self.image(i), self.labels[i]\n",
        "\n",
        "    def random_batch_with_labels(self, n):\n",
        "        # create random batch of images with labels (is needed for training)\n",
        "        indices = np.random.choice(self.n_files, n)\n",
        "        imgs = []\n",
        "        for i in indices:\n",
        "            img = self.image(i)\n",
        "            imgs.append(self.image(i))\n",
        "        logits = np.array([self.labels[i] for i in indices])\n",
        "        return np.stack(imgs), logits\n",
        "\n",
        "    def image_with_label(self, i: int):\n",
        "        # return i-th image with label from dataset\n",
        "        return self.image(i), self.labels[i]"
      ]
    },
    {
      "cell_type": "markdown",
      "metadata": {
        "id": "M-LvGqeHYgus"
      },
      "source": [
        "### Пример использвания класса Dataset\n",
        "Загрузим обучающий набор данных, получим произвольное изображение с меткой. После чего визуализируем изображение, выведем метку. В будущем, этот кусок кода можно закомментировать или убрать."
      ]
    },
    {
      "cell_type": "code",
      "execution_count": 7,
      "metadata": {
        "id": "HhObWEjGJ1um",
        "colab": {
          "base_uri": "https://localhost:8080/",
          "height": 1000
        },
        "outputId": "a3d4ae5d-20b0-4f86-e963-a8f4e39a0e8c"
      },
      "outputs": [
        {
          "output_type": "stream",
          "name": "stderr",
          "text": [
            "Downloading...\n",
            "From: https://drive.google.com/uc?export=download&confirm=pbef&id=1JFaqaH7QY5PiWUcXzVkQl7H195P-EQVG\n",
            "To: /content/train.npz\n",
            "\n",
            "  0%|          | 0.00/2.10G [00:00<?, ?B/s]\u001b[A\n",
            "  0%|          | 4.72M/2.10G [00:00<02:39, 13.2MB/s]\u001b[A\n",
            "  1%|          | 17.3M/2.10G [00:00<01:11, 29.2MB/s]\u001b[A\n",
            "  1%|          | 25.7M/2.10G [00:00<00:52, 39.8MB/s]\u001b[A\n",
            "  2%|▏         | 42.5M/2.10G [00:01<00:44, 46.7MB/s]\u001b[A\n",
            "  3%|▎         | 56.6M/2.10G [00:01<00:32, 63.5MB/s]\u001b[A\n",
            "  3%|▎         | 65.0M/2.10G [00:01<00:40, 50.2MB/s]\u001b[A\n",
            "  4%|▎         | 76.0M/2.10G [00:01<00:48, 42.0MB/s]\u001b[A\n",
            "  4%|▍         | 92.8M/2.10G [00:01<00:36, 54.9MB/s]\u001b[A\n",
            "  5%|▌         | 110M/2.10G [00:02<00:33, 58.7MB/s] \u001b[A\n",
            "  6%|▌         | 127M/2.10G [00:02<00:25, 77.2MB/s]\u001b[A\n",
            "  7%|▋         | 138M/2.10G [00:02<00:23, 82.1MB/s]\u001b[A\n",
            "  7%|▋         | 152M/2.10G [00:02<00:21, 90.0MB/s]\u001b[A\n",
            "  8%|▊         | 163M/2.10G [00:02<00:21, 88.2MB/s]\u001b[A\n",
            "  8%|▊         | 176M/2.10G [00:02<00:19, 97.7MB/s]\u001b[A\n",
            "  9%|▉         | 187M/2.10G [00:02<00:19, 97.8MB/s]\u001b[A\n",
            "  9%|▉         | 198M/2.10G [00:03<00:22, 85.2MB/s]\u001b[A\n",
            " 10%|█         | 219M/2.10G [00:03<00:23, 81.6MB/s]\u001b[A\n",
            " 11%|█▏        | 241M/2.10G [00:03<00:17, 109MB/s] \u001b[A\n",
            " 12%|█▏        | 254M/2.10G [00:03<00:22, 83.7MB/s]\u001b[A\n",
            " 13%|█▎        | 265M/2.10G [00:03<00:21, 87.4MB/s]\u001b[A\n",
            " 13%|█▎        | 275M/2.10G [00:03<00:23, 76.8MB/s]\u001b[A\n",
            " 14%|█▍        | 294M/2.10G [00:04<00:22, 80.0MB/s]\u001b[A\n",
            " 15%|█▌        | 316M/2.10G [00:04<00:16, 106MB/s] \u001b[A\n",
            " 16%|█▌        | 332M/2.10G [00:04<00:15, 117MB/s]\u001b[A\n",
            " 17%|█▋        | 353M/2.10G [00:04<00:14, 122MB/s]\u001b[A\n",
            " 17%|█▋        | 366M/2.10G [00:04<00:14, 121MB/s]\u001b[A\n",
            " 18%|█▊        | 380M/2.10G [00:04<00:16, 106MB/s]\u001b[A\n",
            " 19%|█▉        | 400M/2.10G [00:04<00:13, 127MB/s]\u001b[A\n",
            " 20%|█▉        | 414M/2.10G [00:05<00:18, 93.7MB/s]\u001b[A\n",
            " 20%|██        | 428M/2.10G [00:05<00:21, 78.3MB/s]\u001b[A\n",
            " 21%|██        | 438M/2.10G [00:05<00:26, 61.8MB/s]\u001b[A\n",
            " 22%|██▏       | 459M/2.10G [00:05<00:19, 85.1MB/s]\u001b[A\n",
            " 22%|██▏       | 471M/2.10G [00:06<00:26, 62.3MB/s]\u001b[A\n",
            " 23%|██▎       | 487M/2.10G [00:06<00:21, 74.5MB/s]\u001b[A\n",
            " 24%|██▍       | 504M/2.10G [00:06<00:19, 80.6MB/s]\u001b[A\n",
            " 24%|██▍       | 514M/2.10G [00:06<00:24, 65.1MB/s]\u001b[A\n",
            " 26%|██▌       | 540M/2.10G [00:06<00:16, 93.9MB/s]\u001b[A\n",
            " 26%|██▋       | 554M/2.10G [00:07<00:15, 101MB/s] \u001b[A\n",
            " 28%|██▊       | 579M/2.10G [00:07<00:12, 127MB/s]\u001b[A\n",
            " 28%|██▊       | 595M/2.10G [00:07<00:14, 103MB/s]\u001b[A\n",
            " 29%|██▉       | 607M/2.10G [00:07<00:17, 83.2MB/s]\u001b[A\n",
            " 30%|██▉       | 627M/2.10G [00:07<00:14, 104MB/s] \u001b[A\n",
            " 30%|███       | 641M/2.10G [00:07<00:13, 110MB/s]\u001b[A\n",
            " 31%|███       | 654M/2.10G [00:08<00:17, 82.9MB/s]\u001b[A\n",
            " 32%|███▏      | 680M/2.10G [00:08<00:15, 94.5MB/s]\u001b[A\n",
            " 33%|███▎      | 691M/2.10G [00:08<00:19, 71.9MB/s]\u001b[A\n",
            " 34%|███▍      | 715M/2.10G [00:08<00:14, 98.9MB/s]\u001b[A\n",
            " 35%|███▍      | 729M/2.10G [00:09<00:19, 70.5MB/s]\u001b[A\n",
            " 36%|███▌      | 750M/2.10G [00:09<00:14, 91.1MB/s]\u001b[A\n",
            " 36%|███▋      | 763M/2.10G [00:09<00:15, 87.0MB/s]\u001b[A\n",
            " 37%|███▋      | 786M/2.10G [00:09<00:11, 113MB/s] \u001b[A\n",
            " 38%|███▊      | 802M/2.10G [00:09<00:10, 121MB/s]\u001b[A\n",
            " 39%|███▉      | 817M/2.10G [00:09<00:14, 86.6MB/s]\u001b[A\n",
            " 40%|███▉      | 838M/2.10G [00:09<00:11, 108MB/s] \u001b[A\n",
            " 41%|████      | 852M/2.10G [00:10<00:14, 85.5MB/s]\u001b[A\n",
            " 42%|████▏     | 878M/2.10G [00:10<00:10, 116MB/s] \u001b[A\n",
            " 43%|████▎     | 894M/2.10G [00:10<00:13, 92.8MB/s]\u001b[A\n",
            " 44%|████▎     | 915M/2.10G [00:10<00:11, 101MB/s] \u001b[A\n",
            " 44%|████▍     | 928M/2.10G [00:10<00:12, 97.1MB/s]\u001b[A\n",
            " 45%|████▌     | 951M/2.10G [00:11<00:09, 122MB/s] \u001b[A\n",
            " 46%|████▌     | 966M/2.10G [00:11<00:11, 99.1MB/s]\u001b[A\n",
            " 47%|████▋     | 981M/2.10G [00:11<00:10, 110MB/s] \u001b[A\n",
            " 48%|████▊     | 999M/2.10G [00:11<00:08, 124MB/s]\u001b[A\n",
            " 49%|████▊     | 1.02G/2.10G [00:11<00:07, 146MB/s]\u001b[A\n",
            " 49%|████▉     | 1.04G/2.10G [00:12<00:12, 82.4MB/s]\u001b[A\n",
            " 50%|█████     | 1.06G/2.10G [00:12<00:15, 66.5MB/s]\u001b[A\n",
            " 51%|█████▏    | 1.08G/2.10G [00:12<00:11, 85.5MB/s]\u001b[A\n",
            " 52%|█████▏    | 1.10G/2.10G [00:12<00:09, 101MB/s] \u001b[A\n",
            " 53%|█████▎    | 1.11G/2.10G [00:13<00:15, 63.9MB/s]\u001b[A\n",
            " 54%|█████▍    | 1.13G/2.10G [00:13<00:11, 81.0MB/s]\u001b[A\n",
            " 55%|█████▍    | 1.15G/2.10G [00:13<00:13, 69.9MB/s]\u001b[A\n",
            " 55%|█████▌    | 1.16G/2.10G [00:13<00:11, 80.0MB/s]\u001b[A\n",
            " 56%|█████▌    | 1.17G/2.10G [00:13<00:10, 87.9MB/s]\u001b[A\n",
            " 57%|█████▋    | 1.19G/2.10G [00:13<00:11, 78.8MB/s]\u001b[A\n",
            " 57%|█████▋    | 1.20G/2.10G [00:14<00:11, 81.3MB/s]\u001b[A\n",
            " 57%|█████▋    | 1.21G/2.10G [00:14<00:10, 82.5MB/s]\u001b[A\n",
            " 59%|█████▊    | 1.23G/2.10G [00:14<00:07, 121MB/s] \u001b[A\n",
            " 59%|█████▉    | 1.25G/2.10G [00:14<00:09, 85.5MB/s]\u001b[A\n",
            " 60%|█████▉    | 1.26G/2.10G [00:14<00:12, 67.4MB/s]\u001b[A\n",
            " 61%|██████    | 1.28G/2.10G [00:14<00:09, 90.6MB/s]\u001b[A\n",
            " 62%|██████▏   | 1.30G/2.10G [00:15<00:07, 108MB/s] \u001b[A\n",
            " 63%|██████▎   | 1.31G/2.10G [00:15<00:06, 117MB/s]\u001b[A\n",
            " 63%|██████▎   | 1.33G/2.10G [00:15<00:07, 98.1MB/s]\u001b[A\n",
            " 64%|██████▍   | 1.34G/2.10G [00:15<00:07, 99.6MB/s]\u001b[A\n",
            " 65%|██████▍   | 1.36G/2.10G [00:15<00:08, 87.6MB/s]\u001b[A\n",
            " 66%|██████▌   | 1.38G/2.10G [00:15<00:06, 113MB/s] \u001b[A\n",
            " 66%|██████▋   | 1.40G/2.10G [00:16<00:08, 84.4MB/s]\u001b[A\n",
            " 68%|██████▊   | 1.42G/2.10G [00:16<00:08, 84.1MB/s]\u001b[A\n",
            " 68%|██████▊   | 1.44G/2.10G [00:16<00:06, 98.4MB/s]\u001b[A\n",
            " 69%|██████▉   | 1.45G/2.10G [00:16<00:06, 100MB/s] \u001b[A\n",
            " 70%|██████▉   | 1.46G/2.10G [00:17<00:10, 63.6MB/s]\u001b[A\n",
            " 70%|███████   | 1.48G/2.10G [00:17<00:08, 70.7MB/s]\u001b[A\n",
            " 71%|███████▏  | 1.50G/2.10G [00:17<00:06, 98.2MB/s]\u001b[A\n",
            " 72%|███████▏  | 1.51G/2.10G [00:17<00:05, 98.8MB/s]\u001b[A\n",
            " 73%|███████▎  | 1.54G/2.10G [00:17<00:04, 131MB/s] \u001b[A\n",
            " 74%|███████▍  | 1.56G/2.10G [00:17<00:04, 130MB/s]\u001b[A\n",
            " 75%|███████▍  | 1.57G/2.10G [00:17<00:04, 110MB/s]\u001b[A\n",
            " 76%|███████▌  | 1.59G/2.10G [00:18<00:04, 109MB/s]\u001b[A\n",
            " 77%|███████▋  | 1.61G/2.10G [00:18<00:03, 133MB/s]\u001b[A\n",
            " 78%|███████▊  | 1.63G/2.10G [00:18<00:02, 157MB/s]\u001b[A\n",
            " 79%|███████▊  | 1.65G/2.10G [00:18<00:04, 104MB/s]\u001b[A\n",
            " 79%|███████▉  | 1.67G/2.10G [00:18<00:04, 94.3MB/s]\u001b[A\n",
            " 80%|████████  | 1.68G/2.10G [00:18<00:04, 99.2MB/s]\u001b[A\n",
            " 81%|████████  | 1.70G/2.10G [00:19<00:03, 102MB/s] \u001b[A\n",
            " 81%|████████▏ | 1.71G/2.10G [00:19<00:04, 97.6MB/s]\u001b[A\n",
            " 82%|████████▏ | 1.72G/2.10G [00:19<00:06, 57.2MB/s]\u001b[A\n",
            " 83%|████████▎ | 1.74G/2.10G [00:19<00:04, 87.5MB/s]\u001b[A\n",
            " 84%|████████▎ | 1.76G/2.10G [00:19<00:04, 75.1MB/s]\u001b[A\n",
            " 85%|████████▍ | 1.79G/2.10G [00:20<00:02, 109MB/s] \u001b[A\n",
            " 86%|████████▌ | 1.80G/2.10G [00:20<00:03, 86.4MB/s]\u001b[A\n",
            " 87%|████████▋ | 1.83G/2.10G [00:20<00:02, 111MB/s] \u001b[A\n",
            " 88%|████████▊ | 1.84G/2.10G [00:20<00:02, 91.8MB/s]\u001b[A\n",
            " 89%|████████▉ | 1.87G/2.10G [00:20<00:01, 123MB/s] \u001b[A\n",
            " 90%|████████▉ | 1.89G/2.10G [00:20<00:01, 120MB/s]\u001b[A\n",
            " 91%|█████████ | 1.90G/2.10G [00:21<00:01, 101MB/s]\u001b[A\n",
            " 91%|█████████▏| 1.92G/2.10G [00:21<00:01, 115MB/s]\u001b[A\n",
            " 92%|█████████▏| 1.93G/2.10G [00:21<00:01, 96.9MB/s]\u001b[A\n",
            " 93%|█████████▎| 1.95G/2.10G [00:21<00:01, 95.6MB/s]\u001b[A\n",
            " 94%|█████████▍| 1.97G/2.10G [00:21<00:01, 128MB/s] \u001b[A\n",
            " 95%|█████████▍| 1.99G/2.10G [00:21<00:01, 106MB/s]\u001b[A\n",
            " 95%|█████████▌| 2.00G/2.10G [00:22<00:00, 104MB/s]\u001b[A\n",
            " 96%|█████████▌| 2.02G/2.10G [00:22<00:00, 123MB/s]\u001b[A\n",
            " 97%|█████████▋| 2.03G/2.10G [00:22<00:00, 101MB/s]\u001b[A\n",
            " 98%|█████████▊| 2.05G/2.10G [00:22<00:00, 111MB/s]\u001b[A\n",
            " 98%|█████████▊| 2.06G/2.10G [00:22<00:00, 89.7MB/s]\u001b[A\n",
            "100%|██████████| 2.10G/2.10G [00:23<00:00, 90.3MB/s]\n"
          ]
        },
        {
          "output_type": "stream",
          "name": "stdout",
          "text": [
            "Loading dataset train from npz.\n",
            "Done. Dataset train consists of 18000 images.\n",
            "\n",
            "Got numpy array of shape (224, 224, 3), and label with code 7.\n",
            "Label code corresponds to STR class.\n"
          ]
        },
        {
          "output_type": "display_data",
          "data": {
            "text/plain": [
              "<PIL.Image.Image image mode=RGB size=224x224>"
            ],
            "image/png": "[encoded data removed]",
            "image/jpeg": "[encoded data removed]"
          },
          "metadata": {}
        }
      ],
      "source": [
        "d_train_tiny = Dataset('train')\n",
        "\n",
        "img, lbl = d_train_tiny.random_image_with_label()\n",
        "print()\n",
        "print(f'Got numpy array of shape {img.shape}, and label with code {lbl}.')\n",
        "print(f'Label code corresponds to {TISSUE_CLASSES[lbl]} class.')\n",
        "\n",
        "pil_img = Image.fromarray(img)\n",
        "IPython.display.display(pil_img)"
      ]
    },
    {
      "cell_type": "markdown",
      "metadata": {
        "id": "qaBXXCWeVLYb"
      },
      "source": [
        "---\n",
        "### Класс Metrics\n",
        "\n",
        "Реализует метрики точности, используемые для оценивания модели:\n",
        "1. точность,\n",
        "2. сбалансированную точность."
      ]
    },
    {
      "cell_type": "code",
      "execution_count": 66,
      "metadata": {
        "id": "5unQ7azTinCZ"
      },
      "outputs": [],
      "source": [
        "class Metrics:\n",
        "\n",
        "    @staticmethod\n",
        "    def accuracy(gt: List[int], pred: List[int]):\n",
        "        assert len(gt) == len(pred), 'gt and prediction should be of equal length'\n",
        "        return sum(int(i[0] == i[1]) for i in zip(gt, pred)) / len(gt)\n",
        "\n",
        "    @staticmethod\n",
        "    def accuracy_balanced(gt: List[int], pred: List[int]):\n",
        "        return balanced_accuracy_score(gt, pred)\n",
        "\n",
        "    @staticmethod\n",
        "    def print_all(gt: List[int], pred: List[int], info: str):\n",
        "        print(f'metrics for {info}:')\n",
        "        print('\\t accuracy {:.4f}:'.format(Metrics.accuracy(gt, pred)))\n",
        "        print('\\t balanced accuracy {:.4f}:'.format(Metrics.accuracy_balanced(gt, pred)))"
      ]
    },
    {
      "cell_type": "markdown",
      "metadata": {
        "id": "N1AHzTJVGU5k"
      },
      "source": [
        "---\n",
        "### Класс Model\n",
        "\n",
        "Класс, хранящий в себе всю информацию о модели.\n",
        "\n",
        "Вам необходимо реализовать методы save, load для сохранения и заргрузки модели. Особенно актуально это будет во время тестирования на дополнительных наборах данных.\n",
        "\n",
        "> *Пожалуйста, убедитесь, что сохранение и загрузка модели работает корректно. Для этого обучите модель, протестируйте, сохраните ее в файл, перезапустите среду выполнения, загрузите обученную модель из файла, вновь протестируйте ее на тестовой выборке и убедитесь в том, что получаемые метрики совпадают с полученными для тестовой выбрки ранее.*\n",
        "\n",
        "\n",
        "Также, Вы можете реализовать дополнительные функции, такие как:\n",
        "1. валидацию модели на части обучающей выборки;\n",
        "2. использование кроссвалидации;\n",
        "3. автоматическое сохранение модели при обучении;\n",
        "4. загрузку модели с какой-то конкретной итерации обучения (если используется итеративное обучение);\n",
        "5. вывод различных показателей в процессе обучения (например, значение функции потерь на каждой эпохе);\n",
        "6. построение графиков, визуализирующих процесс обучения (например, график зависимости функции потерь от номера эпохи обучения);\n",
        "7. автоматическое тестирование на тестовом наборе/наборах данных после каждой эпохи обучения (при использовании итеративного обучения);\n",
        "8. автоматический выбор гиперпараметров модели во время обучения;\n",
        "9. сохранение и визуализацию результатов тестирования;\n",
        "10. Использование аугментации и других способов синтетического расширения набора данных (дополнительным плюсом будет обоснование необходимости и обоснование выбора конкретных типов аугментации)\n",
        "11. и т.д.\n",
        "\n",
        "Полный список опций и дополнений приведен в презентации с описанием задания.\n",
        "\n",
        "При реализации дополнительных функций допускается добавление параметров в существующие методы и добавление новых методов в класс модели."
      ]
    },
    {
      "cell_type": "code",
      "execution_count": 65,
      "metadata": {
        "id": "0pkMiB6mJ7JQ"
      },
      "outputs": [],
      "source": [
        "import torch\n",
        "import torch.nn as nn\n",
        "import torch.optim as optim\n",
        "from torchvision import models, transforms\n",
        "from torch.utils.data import DataLoader, Dataset as TorchDataset\n",
        "from tqdm import tqdm\n",
        "from PIL import Image\n",
        "import numpy as np\n",
        "\n",
        "\n",
        "class Model:\n",
        "    def __init__(self, learning_rate=0.004, batch_size=32, num_epochs=10, weight_decay=1e-4):\n",
        "        #LBL1: Инициализация гиперпараметров\n",
        "        self.learning_rate = learning_rate\n",
        "        self.batch_size = batch_size\n",
        "        self.num_epochs = num_epochs\n",
        "        self.weight_decay = weight_decay\n",
        "\n",
        "        self.device = torch.device(\"cuda\" if torch.cuda.is_available() else \"cpu\")\n",
        "        #LBL2: Инициализация модели MobileNetV2\n",
        "        self.model = models.mobilenet_v2(weights=models.MobileNet_V2_Weights.IMAGENET1K_V1)\n",
        "        in_features = self.model.classifier[1].in_features\n",
        "        self.model.classifier[1] = nn.Linear(in_features, 9)  # 9 классов\n",
        "        self.model = self.model.to(self.device)\n",
        "        #LBL3: Настройка функции потерь оптимизатора и планировщика скорости обучения\n",
        "        self.criterion = nn.CrossEntropyLoss()\n",
        "        self.optimizer = optim.SGD(\n",
        "            self.model.parameters(),\n",
        "            lr=self.learning_rate,\n",
        "            momentum=0.9,\n",
        "            weight_decay=self.weight_decay\n",
        "        )\n",
        "\n",
        "        self.scheduler = torch.optim.lr_scheduler.StepLR(self.optimizer, step_size=5, gamma=0.1)\n",
        "\n",
        "        #LBL4: Настройка увеличения данных обучения и тестирования\n",
        "        self.train_transforms = transforms.Compose([\n",
        "            transforms.RandomHorizontalFlip(),\n",
        "            transforms.RandomRotation(10),\n",
        "            transforms.ColorJitter(brightness=0.2, contrast=0.2, saturation=0.2),\n",
        "            transforms.RandomResizedCrop((224, 224), scale=(0.8, 1.0)),\n",
        "            transforms.RandomGrayscale(p=0.1),\n",
        "            transforms.ToTensor(),\n",
        "            transforms.Normalize(mean=[0.485, 0.456, 0.406], std=[0.229, 0.224, 0.225]),\n",
        "        ])\n",
        "        self.test_transforms = transforms.Compose([\n",
        "            transforms.Resize((224, 224)),\n",
        "            transforms.ToTensor(),\n",
        "            transforms.Normalize(mean=[0.485, 0.456, 0.406], std=[0.229, 0.224, 0.225]),\n",
        "        ])\n",
        "\n",
        "    def save(self, name: str):\n",
        "        torch.save(self.model.state_dict(), f\"{name}.pth\")\n",
        "\n",
        "    def load(self, name: str):\n",
        "        self.model.load_state_dict(torch.load(f\"{name}.pth\", map_location=self.device))\n",
        "        self.model.to(self.device)\n",
        "    #LBL5: Обучение модели с использованием набора данных PyTorch.\n",
        "    def train(self, dataset):\n",
        "        class PyTorchDataset(TorchDataset):\n",
        "            def __init__(self, dataset, transform=None):\n",
        "                self.dataset = dataset\n",
        "                self.transform = transform\n",
        "\n",
        "            def __len__(self):\n",
        "                return self.dataset.n_files\n",
        "\n",
        "            def __getitem__(self, idx):\n",
        "                image, label = self.dataset.image_with_label(idx)\n",
        "                image = Image.fromarray(image)\n",
        "                if self.transform:\n",
        "                    image = self.transform(image)\n",
        "                return image, label\n",
        "\n",
        "        train_data = PyTorchDataset(dataset, transform=self.train_transforms)\n",
        "        train_loader = DataLoader(train_data, batch_size=self.batch_size, shuffle=True, num_workers=4)\n",
        "\n",
        "        self.model.train()\n",
        "        best_accuracy = 0.0\n",
        "\n",
        "        for epoch in range(self.num_epochs):\n",
        "            epoch_loss = 0.0\n",
        "            correct = 0\n",
        "            total = 0\n",
        "            #LBL6: Цикл обучения\n",
        "            progress_bar = tqdm(train_loader, desc=f\"Epoch {epoch+1}/{self.num_epochs}\", unit=\"batch\")\n",
        "            for images, labels in progress_bar:\n",
        "                images, labels = images.to(self.device), labels.to(self.device)\n",
        "\n",
        "                self.optimizer.zero_grad()\n",
        "                outputs = self.model(images)\n",
        "                loss = self.criterion(outputs, labels)\n",
        "                loss.backward()\n",
        "                self.optimizer.step()\n",
        "\n",
        "                epoch_loss += loss.item()\n",
        "                _, predicted = torch.max(outputs, 1)\n",
        "                correct += (predicted == labels).sum().item()\n",
        "                total += labels.size(0)\n",
        "\n",
        "                progress_bar.set_postfix(loss=loss.item(), accuracy=100 * correct / total)\n",
        "\n",
        "            epoch_accuracy = 100 * correct / total\n",
        "            print(f\"Epoch {epoch+1}: Loss = {epoch_loss:.4f}, Accuracy = {epoch_accuracy:.2f}%\")\n",
        "            #LBL7: Сохраняет лучшую модель основанную на точности\n",
        "            if epoch_accuracy > best_accuracy:\n",
        "                best_accuracy = epoch_accuracy\n",
        "                self.save(\"best_model\")\n",
        "                print(f\"New best model saved with accuracy: {best_accuracy:.2f}%\")\n",
        "\n",
        "            self.scheduler.step()\n",
        "\n",
        "    def test_on_dataset(self, dataset, limit=None):\n",
        "        predictions = []\n",
        "        n = dataset.n_files if not limit else int(dataset.n_files * limit)\n",
        "        for img in tqdm(dataset.images_seq(n), total=n):\n",
        "            predictions.append(self.test_on_image(img))\n",
        "        return predictions\n",
        "\n",
        "    def test_on_image(self, img):\n",
        "        self.model.eval()\n",
        "\n",
        "        if len(img.shape) == 2 or img.shape[-1] == 1:\n",
        "            img = np.stack([img] * 3, axis=-1)\n",
        "\n",
        "        img_pil = Image.fromarray(img).convert(\"RGB\")\n",
        "        img_tensor = self.test_transforms(img_pil).unsqueeze(0).to(self.device)\n",
        "\n",
        "        with torch.no_grad():\n",
        "            output = self.model(img_tensor)\n",
        "            _, predicted_class = torch.max(output, 1)\n",
        "\n",
        "        return predicted_class.item()"
      ]
    },
    {
      "cell_type": "code",
      "source": [],
      "metadata": {
        "id": "Ess81V_lKaRL"
      },
      "execution_count": null,
      "outputs": []
    },
    {
      "cell_type": "code",
      "source": [],
      "metadata": {
        "id": "Oy3LsiPCKad1"
      },
      "execution_count": null,
      "outputs": []
    },
    {
      "cell_type": "markdown",
      "metadata": {
        "id": "ZMpTB6lMr00A"
      },
      "source": [
        "---\n",
        "### Классификация изображений\n",
        "\n",
        "Используя введенные выше классы можем перейти уже непосредственно к обучению модели классификации изображений. Пример общего пайплайна решения задачи приведен ниже. Вы можете его расширять и улучшать. В данном примере используются наборы данных 'train_small' и 'test_small'."
      ]
    },
    {
      "cell_type": "code",
      "execution_count": 11,
      "metadata": {
        "id": "5cTOuZD01Up6",
        "colab": {
          "base_uri": "https://localhost:8080/"
        },
        "outputId": "d8041228-d361-4391-b93c-77ddcbf76430"
      },
      "outputs": [
        {
          "output_type": "stream",
          "name": "stderr",
          "text": [
            "Downloading...\n",
            "From: https://drive.google.com/uc?export=download&confirm=pbef&id=1JFaqaH7QY5PiWUcXzVkQl7H195P-EQVG\n",
            "To: /content/train.npz\n",
            "\n",
            "  0%|          | 0.00/2.10G [00:00<?, ?B/s]\u001b[A\n",
            "  0%|          | 4.72M/2.10G [00:00<00:44, 46.7MB/s]\u001b[A\n",
            "  1%|          | 19.9M/2.10G [00:00<00:19, 108MB/s] \u001b[A\n",
            "  2%|▏         | 34.6M/2.10G [00:00<00:16, 123MB/s]\u001b[A\n",
            "  3%|▎         | 54.5M/2.10G [00:00<00:13, 152MB/s]\u001b[A\n",
            "  4%|▎         | 76.0M/2.10G [00:00<00:12, 157MB/s]\u001b[A\n",
            "  4%|▍         | 92.8M/2.10G [00:00<00:14, 140MB/s]\u001b[A\n",
            "  5%|▌         | 111M/2.10G [00:00<00:13, 150MB/s] \u001b[A\n",
            "  6%|▌         | 126M/2.10G [00:00<00:13, 150MB/s]\u001b[A\n",
            "  7%|▋         | 146M/2.10G [00:00<00:11, 164MB/s]\u001b[A\n",
            "  8%|▊         | 164M/2.10G [00:01<00:11, 167MB/s]\u001b[A\n",
            "  9%|▊         | 183M/2.10G [00:01<00:11, 173MB/s]\u001b[A\n",
            " 10%|▉         | 202M/2.10G [00:01<00:11, 171MB/s]\u001b[A\n",
            " 10%|█         | 219M/2.10G [00:01<00:11, 165MB/s]\u001b[A\n",
            " 11%|█         | 236M/2.10G [00:01<00:11, 165MB/s]\u001b[A\n",
            " 12%|█▏        | 259M/2.10G [00:01<00:10, 183MB/s]\u001b[A\n",
            " 13%|█▎        | 278M/2.10G [00:01<00:10, 173MB/s]\u001b[A\n",
            " 14%|█▍        | 296M/2.10G [00:01<00:11, 154MB/s]\u001b[A\n",
            " 15%|█▍        | 312M/2.10G [00:02<00:12, 147MB/s]\u001b[A\n",
            " 16%|█▌        | 329M/2.10G [00:02<00:11, 153MB/s]\u001b[A\n",
            " 16%|█▋        | 345M/2.10G [00:02<00:12, 135MB/s]\u001b[A\n",
            " 17%|█▋        | 359M/2.10G [00:02<00:18, 91.8MB/s]\u001b[A\n",
            " 18%|█▊        | 371M/2.10G [00:02<00:23, 74.2MB/s]\u001b[A\n",
            " 18%|█▊        | 388M/2.10G [00:02<00:18, 92.5MB/s]\u001b[A\n",
            " 19%|█▉        | 402M/2.10G [00:03<00:17, 99.2MB/s]\u001b[A\n",
            " 20%|█▉        | 414M/2.10G [00:03<00:20, 81.1MB/s]\u001b[A\n",
            " 20%|██        | 424M/2.10G [00:03<00:23, 70.2MB/s]\u001b[A\n",
            " 21%|██        | 433M/2.10G [00:03<00:27, 60.7MB/s]\u001b[A\n",
            " 21%|██        | 440M/2.10G [00:03<00:28, 57.8MB/s]\u001b[A\n",
            " 21%|██▏       | 447M/2.10G [00:04<00:43, 38.0MB/s]\u001b[A\n",
            " 22%|██▏       | 452M/2.10G [00:06<03:08, 8.75MB/s]\u001b[A\n",
            " 22%|██▏       | 470M/2.10G [00:06<01:40, 16.2MB/s]\u001b[A\n",
            " 23%|██▎       | 478M/2.10G [00:06<01:23, 19.4MB/s]\u001b[A\n",
            " 23%|██▎       | 485M/2.10G [00:07<01:10, 23.1MB/s]\u001b[A\n",
            " 23%|██▎       | 492M/2.10G [00:07<00:59, 27.2MB/s]\u001b[A\n",
            " 24%|██▍       | 499M/2.10G [00:07<00:52, 30.6MB/s]\u001b[A\n",
            " 24%|██▍       | 512M/2.10G [00:07<00:37, 42.1MB/s]\u001b[A\n",
            " 25%|██▍       | 521M/2.10G [00:07<00:31, 49.5MB/s]\u001b[A\n",
            " 25%|██▌       | 529M/2.10G [00:07<00:29, 52.4MB/s]\u001b[A\n",
            " 26%|██▌       | 537M/2.10G [00:07<00:26, 58.4MB/s]\u001b[A\n",
            " 26%|██▌       | 546M/2.10G [00:07<00:24, 62.9MB/s]\u001b[A\n",
            " 26%|██▋       | 556M/2.10G [00:08<00:21, 71.4MB/s]\u001b[A\n",
            " 27%|██▋       | 566M/2.10G [00:08<00:19, 78.2MB/s]\u001b[A\n",
            " 27%|██▋       | 575M/2.10G [00:08<00:19, 80.2MB/s]\u001b[A\n",
            " 28%|██▊       | 585M/2.10G [00:08<00:17, 85.9MB/s]\u001b[A\n",
            " 28%|██▊       | 595M/2.10G [00:08<00:18, 80.7MB/s]\u001b[A\n",
            " 29%|██▉       | 605M/2.10G [00:08<00:17, 86.9MB/s]\u001b[A\n",
            " 29%|██▉       | 614M/2.10G [00:08<00:17, 86.4MB/s]\u001b[A\n",
            " 30%|██▉       | 630M/2.10G [00:08<00:15, 92.2MB/s]\u001b[A\n",
            " 31%|███       | 642M/2.10G [00:08<00:14, 101MB/s] \u001b[A\n",
            " 31%|███       | 653M/2.10G [00:09<00:14, 101MB/s]\u001b[A\n",
            " 32%|███▏      | 671M/2.10G [00:09<00:11, 123MB/s]\u001b[A\n",
            " 33%|███▎      | 691M/2.10G [00:09<00:09, 144MB/s]\u001b[A\n",
            " 34%|███▎      | 706M/2.10G [00:09<00:09, 146MB/s]\u001b[A\n",
            " 34%|███▍      | 721M/2.10G [00:09<00:09, 146MB/s]\u001b[A\n",
            " 35%|███▌      | 739M/2.10G [00:09<00:09, 148MB/s]\u001b[A\n",
            " 36%|███▌      | 758M/2.10G [00:09<00:08, 160MB/s]\u001b[A\n",
            " 37%|███▋      | 779M/2.10G [00:09<00:07, 173MB/s]\u001b[A\n",
            " 38%|███▊      | 796M/2.10G [00:09<00:09, 144MB/s]\u001b[A\n",
            " 39%|███▊      | 812M/2.10G [00:10<00:09, 140MB/s]\u001b[A\n",
            " 40%|███▉      | 830M/2.10G [00:10<00:08, 151MB/s]\u001b[A\n",
            " 40%|████      | 846M/2.10G [00:10<00:08, 148MB/s]\u001b[A\n",
            " 41%|████      | 861M/2.10G [00:10<00:08, 140MB/s]\u001b[A\n",
            " 42%|████▏     | 879M/2.10G [00:10<00:08, 150MB/s]\u001b[A\n",
            " 43%|████▎     | 895M/2.10G [00:10<00:08, 142MB/s]\u001b[A\n",
            " 43%|████▎     | 910M/2.10G [00:10<00:09, 123MB/s]\u001b[A\n",
            " 44%|████▍     | 927M/2.10G [00:10<00:08, 137MB/s]\u001b[A\n",
            " 45%|████▍     | 942M/2.10G [00:11<00:09, 126MB/s]\u001b[A\n",
            " 46%|████▌     | 957M/2.10G [00:11<00:08, 129MB/s]\u001b[A\n",
            " 46%|████▌     | 971M/2.10G [00:11<00:08, 131MB/s]\u001b[A\n",
            " 47%|████▋     | 990M/2.10G [00:11<00:07, 146MB/s]\u001b[A\n",
            " 48%|████▊     | 1.01G/2.10G [00:11<00:07, 143MB/s]\u001b[A\n",
            " 49%|████▊     | 1.02G/2.10G [00:11<00:07, 146MB/s]\u001b[A\n",
            " 49%|████▉     | 1.04G/2.10G [00:11<00:07, 140MB/s]\u001b[A\n",
            " 50%|█████     | 1.05G/2.10G [00:11<00:06, 152MB/s]\u001b[A\n",
            " 51%|█████     | 1.07G/2.10G [00:11<00:07, 132MB/s]\u001b[A\n",
            " 52%|█████▏    | 1.09G/2.10G [00:12<00:06, 146MB/s]\u001b[A\n",
            " 53%|█████▎    | 1.10G/2.10G [00:12<00:07, 138MB/s]\u001b[A\n",
            " 53%|█████▎    | 1.12G/2.10G [00:12<00:06, 150MB/s]\u001b[A\n",
            " 54%|█████▍    | 1.14G/2.10G [00:12<00:05, 160MB/s]\u001b[A\n",
            " 55%|█████▌    | 1.16G/2.10G [00:12<00:05, 171MB/s]\u001b[A\n",
            " 56%|█████▌    | 1.18G/2.10G [00:17<01:11, 12.8MB/s]\u001b[A\n",
            " 57%|█████▋    | 1.19G/2.10G [00:17<00:57, 15.7MB/s]\u001b[A\n",
            " 57%|█████▋    | 1.20G/2.10G [00:17<00:46, 19.1MB/s]\u001b[A\n",
            " 58%|█████▊    | 1.21G/2.10G [00:17<00:40, 22.0MB/s]\u001b[A\n",
            " 58%|█████▊    | 1.22G/2.10G [00:17<00:36, 24.2MB/s]\u001b[A\n",
            " 59%|█████▊    | 1.23G/2.10G [00:17<00:32, 27.2MB/s]\u001b[A\n",
            " 59%|█████▉    | 1.24G/2.10G [00:18<00:28, 30.7MB/s]\u001b[A\n",
            " 59%|█████▉    | 1.25G/2.10G [00:18<00:21, 40.3MB/s]\u001b[A\n",
            " 60%|█████▉    | 1.26G/2.10G [00:18<00:19, 44.0MB/s]\u001b[A\n",
            " 60%|██████    | 1.26G/2.10G [00:18<00:19, 42.8MB/s]\u001b[A\n",
            " 61%|██████    | 1.28G/2.10G [00:18<00:15, 52.2MB/s]\u001b[A\n",
            " 61%|██████    | 1.28G/2.10G [00:18<00:15, 54.1MB/s]\u001b[A\n",
            " 62%|██████▏   | 1.29G/2.10G [00:18<00:12, 63.0MB/s]\u001b[A\n",
            " 62%|██████▏   | 1.30G/2.10G [00:18<00:11, 68.6MB/s]\u001b[A\n",
            " 63%|██████▎   | 1.32G/2.10G [00:19<00:10, 77.0MB/s]\u001b[A\n",
            " 63%|██████▎   | 1.33G/2.10G [00:19<00:10, 76.4MB/s]\u001b[A\n",
            " 64%|██████▎   | 1.33G/2.10G [00:19<00:09, 76.7MB/s]\u001b[A\n",
            " 64%|██████▍   | 1.35G/2.10G [00:19<00:08, 91.5MB/s]\u001b[A\n",
            " 65%|██████▍   | 1.36G/2.10G [00:19<00:08, 89.2MB/s]\u001b[A\n",
            " 65%|██████▌   | 1.37G/2.10G [00:19<00:08, 85.5MB/s]\u001b[A\n",
            " 66%|██████▌   | 1.38G/2.10G [00:19<00:07, 98.7MB/s]\u001b[A\n",
            " 67%|██████▋   | 1.40G/2.10G [00:19<00:06, 114MB/s] \u001b[A\n",
            " 67%|██████▋   | 1.41G/2.10G [00:19<00:06, 105MB/s]\u001b[A\n",
            " 68%|██████▊   | 1.42G/2.10G [00:20<00:06, 109MB/s]\u001b[A\n",
            " 68%|██████▊   | 1.43G/2.10G [00:20<00:06, 110MB/s]\u001b[A\n",
            " 69%|██████▉   | 1.45G/2.10G [00:20<00:04, 133MB/s]\u001b[A\n",
            " 70%|██████▉   | 1.47G/2.10G [00:20<00:04, 138MB/s]\u001b[A\n",
            " 71%|███████   | 1.48G/2.10G [00:20<00:04, 133MB/s]\u001b[A\n",
            " 71%|███████▏  | 1.50G/2.10G [00:20<00:04, 143MB/s]\u001b[A\n",
            " 72%|███████▏  | 1.52G/2.10G [00:20<00:03, 153MB/s]\u001b[A\n",
            " 73%|███████▎  | 1.53G/2.10G [00:20<00:03, 146MB/s]\u001b[A\n",
            " 74%|███████▍  | 1.55G/2.10G [00:20<00:03, 159MB/s]\u001b[A\n",
            " 75%|███████▍  | 1.57G/2.10G [00:21<00:03, 153MB/s]\u001b[A\n",
            " 75%|███████▌  | 1.59G/2.10G [00:21<00:03, 136MB/s]\u001b[A\n",
            " 76%|███████▋  | 1.60G/2.10G [00:21<00:03, 147MB/s]\u001b[A\n",
            " 77%|███████▋  | 1.62G/2.10G [00:21<00:03, 156MB/s]\u001b[A\n",
            " 78%|███████▊  | 1.64G/2.10G [00:21<00:02, 167MB/s]\u001b[A\n",
            " 79%|███████▉  | 1.66G/2.10G [00:21<00:02, 162MB/s]\u001b[A\n",
            " 80%|███████▉  | 1.68G/2.10G [00:21<00:02, 176MB/s]\u001b[A\n",
            " 81%|████████  | 1.70G/2.10G [00:21<00:02, 153MB/s]\u001b[A\n",
            " 82%|████████▏ | 1.72G/2.10G [00:21<00:02, 177MB/s]\u001b[A\n",
            " 83%|████████▎ | 1.74G/2.10G [00:22<00:02, 148MB/s]\u001b[A\n",
            " 84%|████████▎ | 1.76G/2.10G [00:22<00:02, 147MB/s]\u001b[A\n",
            " 84%|████████▍ | 1.77G/2.10G [00:22<00:02, 137MB/s]\u001b[A\n",
            " 85%|████████▌ | 1.79G/2.10G [00:22<00:02, 146MB/s]\u001b[A\n",
            " 86%|████████▌ | 1.81G/2.10G [00:22<00:01, 148MB/s]\u001b[A\n",
            " 87%|████████▋ | 1.82G/2.10G [00:22<00:01, 143MB/s]\u001b[A\n",
            " 87%|████████▋ | 1.84G/2.10G [00:22<00:02, 118MB/s]\u001b[A\n",
            " 88%|████████▊ | 1.85G/2.10G [00:23<00:02, 121MB/s]\u001b[A\n",
            " 89%|████████▉ | 1.87G/2.10G [00:23<00:01, 125MB/s]\u001b[A\n",
            " 89%|████████▉ | 1.88G/2.10G [00:23<00:01, 119MB/s]\u001b[A\n",
            " 90%|█████████ | 1.89G/2.10G [00:24<00:06, 32.5MB/s]\u001b[A\n",
            " 91%|█████████ | 1.90G/2.10G [00:24<00:04, 41.8MB/s]\u001b[A\n",
            " 91%|█████████▏| 1.92G/2.10G [00:24<00:03, 52.5MB/s]\u001b[A\n",
            " 92%|█████████▏| 1.93G/2.10G [00:24<00:03, 50.2MB/s]\u001b[A\n",
            " 92%|█████████▏| 1.94G/2.10G [00:25<00:03, 46.7MB/s]\u001b[A\n",
            " 93%|█████████▎| 1.96G/2.10G [00:25<00:02, 64.7MB/s]\u001b[A\n",
            " 94%|█████████▍| 1.97G/2.10G [00:25<00:01, 76.8MB/s]\u001b[A\n",
            " 94%|█████████▍| 1.98G/2.10G [00:25<00:01, 77.7MB/s]\u001b[A\n",
            " 95%|█████████▍| 1.99G/2.10G [00:25<00:01, 83.1MB/s]\u001b[A\n",
            " 95%|█████████▌| 2.01G/2.10G [00:25<00:01, 93.5MB/s]\u001b[A\n",
            " 96%|█████████▌| 2.02G/2.10G [00:25<00:00, 91.4MB/s]\u001b[A\n",
            " 97%|█████████▋| 2.03G/2.10G [00:25<00:00, 108MB/s] \u001b[A\n",
            " 98%|█████████▊| 2.05G/2.10G [00:26<00:00, 119MB/s]\u001b[A\n",
            " 98%|█████████▊| 2.07G/2.10G [00:26<00:00, 136MB/s]\u001b[A\n",
            "100%|██████████| 2.10G/2.10G [00:26<00:00, 79.9MB/s]\n"
          ]
        },
        {
          "output_type": "stream",
          "name": "stdout",
          "text": [
            "Loading dataset train from npz.\n",
            "Done. Dataset train consists of 18000 images.\n"
          ]
        },
        {
          "output_type": "stream",
          "name": "stderr",
          "text": [
            "Downloading...\n",
            "From: https://drive.google.com/uc?export=download&confirm=pbef&id=1UW3O9J4bP7OEQZKRKPQvBuEqL_kjhadQ\n",
            "To: /content/test.npz\n",
            "\n",
            "  0%|          | 0.00/525M [00:00<?, ?B/s]\u001b[A\n",
            "  3%|▎         | 16.3M/525M [00:00<00:03, 162MB/s]\u001b[A\n",
            "  6%|▌         | 32.5M/525M [00:00<00:05, 86.6MB/s]\u001b[A\n",
            "  8%|▊         | 43.5M/525M [00:00<00:05, 88.1MB/s]\u001b[A\n",
            " 10%|█         | 53.5M/525M [00:00<00:08, 53.1MB/s]\u001b[A\n",
            " 13%|█▎        | 67.6M/525M [00:00<00:07, 60.9MB/s]\u001b[A\n",
            " 15%|█▌        | 80.7M/525M [00:01<00:05, 74.3MB/s]\u001b[A\n",
            " 17%|█▋        | 90.2M/525M [00:01<00:06, 68.8MB/s]\u001b[A\n",
            " 19%|█▉        | 98.6M/525M [00:01<00:07, 60.0MB/s]\u001b[A\n",
            " 22%|██▏       | 118M/525M [00:01<00:04, 82.2MB/s] \u001b[A\n",
            " 24%|██▍       | 127M/525M [00:01<00:06, 64.8MB/s]\u001b[A\n",
            " 27%|██▋       | 143M/525M [00:01<00:05, 73.2MB/s]\u001b[A\n",
            " 29%|██▉       | 152M/525M [00:02<00:06, 62.1MB/s]\u001b[A\n",
            " 33%|███▎      | 171M/525M [00:02<00:04, 86.5MB/s]\u001b[A\n",
            " 35%|███▍      | 182M/525M [00:02<00:04, 79.4MB/s]\u001b[A\n",
            " 39%|███▊      | 202M/525M [00:02<00:03, 105MB/s] \u001b[A\n",
            " 42%|████▏     | 219M/525M [00:02<00:03, 84.5MB/s]\u001b[A\n",
            " 45%|████▌     | 238M/525M [00:02<00:02, 105MB/s] \u001b[A\n",
            " 48%|████▊     | 252M/525M [00:03<00:03, 82.3MB/s]\u001b[A\n",
            " 51%|█████     | 269M/525M [00:03<00:03, 73.1MB/s]\u001b[A\n",
            " 55%|█████▍    | 287M/525M [00:03<00:02, 90.8MB/s]\u001b[A\n",
            " 58%|█████▊    | 303M/525M [00:03<00:02, 80.3MB/s]\u001b[A\n",
            " 61%|██████    | 320M/525M [00:03<00:02, 96.9MB/s]\u001b[A\n",
            " 64%|██████▍   | 339M/525M [00:04<00:01, 114MB/s] \u001b[A\n",
            " 67%|██████▋   | 353M/525M [00:04<00:01, 93.5MB/s]\u001b[A\n",
            " 70%|███████   | 370M/525M [00:04<00:01, 92.8MB/s]\u001b[A\n",
            " 74%|███████▎  | 386M/525M [00:04<00:01, 94.3MB/s]\u001b[A\n",
            " 78%|███████▊  | 411M/525M [00:04<00:00, 123MB/s] \u001b[A\n",
            " 81%|████████  | 425M/525M [00:04<00:00, 107MB/s]\u001b[A\n",
            " 83%|████████▎ | 438M/525M [00:05<00:00, 94.1MB/s]\u001b[A\n",
            " 86%|████████▋ | 454M/525M [00:05<00:00, 98.2MB/s]\u001b[A\n",
            " 91%|█████████ | 478M/525M [00:05<00:00, 129MB/s] \u001b[A\n",
            " 94%|█████████▍| 493M/525M [00:05<00:00, 74.2MB/s]\u001b[A\n",
            "100%|██████████| 525M/525M [00:06<00:00, 85.7MB/s]\n"
          ]
        },
        {
          "output_type": "stream",
          "name": "stdout",
          "text": [
            "Loading dataset test from npz.\n",
            "Done. Dataset test consists of 4500 images.\n"
          ]
        }
      ],
      "source": [
        "d_train = Dataset('train')\n",
        "d_test = Dataset('test')"
      ]
    },
    {
      "cell_type": "code",
      "execution_count": 46,
      "metadata": {
        "id": "wBi0XpXg8_wq",
        "colab": {
          "base_uri": "https://localhost:8080/"
        },
        "outputId": "f8b15dbc-09ca-43c6-8f3d-10224ca10e3e"
      },
      "outputs": [
        {
          "output_type": "stream",
          "name": "stderr",
          "text": [
            "<ipython-input-43-a308c17d71e9>:56: FutureWarning: You are using `torch.load` with `weights_only=False` (the current default value), which uses the default pickle module implicitly. It is possible to construct malicious pickle data which will execute arbitrary code during unpickling (See https://github.com/pytorch/pytorch/blob/main/SECURITY.md#untrusted-models for more details). In a future release, the default value for `weights_only` will be flipped to `True`. This limits the functions that could be executed during unpickling. Arbitrary objects will no longer be allowed to be loaded via this mode unless they are explicitly allowlisted by the user via `torch.serialization.add_safe_globals`. We recommend you start setting `weights_only=True` for any use case where you don't have full control of the loaded file. Please open an issue on GitHub for any issues related to this experimental feature.\n",
            "  self.model.load_state_dict(torch.load(f\"{name}.pth\", map_location=self.device))\n"
          ]
        }
      ],
      "source": [
        "model = Model()\n",
        "if EVALUATE_ONLY:\n",
        "    model.train(d_train)\n",
        "    model.save('best')\n",
        "else:\n",
        "    #todo: your link goes here\n",
        "    model.load('best')"
      ]
    },
    {
      "cell_type": "code",
      "source": [],
      "metadata": {
        "id": "IJddraGOr9P1"
      },
      "execution_count": null,
      "outputs": []
    },
    {
      "cell_type": "code",
      "source": [],
      "metadata": {
        "id": "MH10AtD7r9fg"
      },
      "execution_count": null,
      "outputs": []
    },
    {
      "cell_type": "markdown",
      "metadata": {
        "id": "CcM2EiRMVP93"
      },
      "source": [
        "Пример тестирования модели на части набора данных:"
      ]
    },
    {
      "cell_type": "code",
      "execution_count": 67,
      "metadata": {
        "id": "I0AqmeLEKqrs",
        "colab": {
          "base_uri": "https://localhost:8080/",
          "height": 211
        },
        "outputId": "5102a962-1a6f-4116-d0a8-b61c03631ef3"
      },
      "outputs": [
        {
          "output_type": "stream",
          "name": "stderr",
          "text": [
            "Testing: 100%|██████████| 141/141 [00:10<00:00, 13.89it/s]\n"
          ]
        },
        {
          "output_type": "stream",
          "name": "stdout",
          "text": [
            "Test Accuracy: 98.93%\n"
          ]
        },
        {
          "output_type": "error",
          "ename": "TypeError",
          "evalue": "object of type 'float' has no len()",
          "traceback": [
            "\u001b[0;31m---------------------------------------------------------------------------\u001b[0m",
            "\u001b[0;31mTypeError\u001b[0m                                 Traceback (most recent call last)",
            "\u001b[0;32m<ipython-input-67-82ceeafc88c8>\u001b[0m in \u001b[0;36m<cell line: 3>\u001b[0;34m()\u001b[0m\n\u001b[1;32m      1\u001b[0m \u001b[0;31m# evaluating model on 10% of test dataset\u001b[0m\u001b[0;34m\u001b[0m\u001b[0;34m\u001b[0m\u001b[0m\n\u001b[1;32m      2\u001b[0m \u001b[0mpred_1\u001b[0m \u001b[0;34m=\u001b[0m \u001b[0mmodel\u001b[0m\u001b[0;34m.\u001b[0m\u001b[0mtest_on_dataset\u001b[0m\u001b[0;34m(\u001b[0m\u001b[0md_test\u001b[0m\u001b[0;34m,\u001b[0m \u001b[0mlimit\u001b[0m\u001b[0;34m=\u001b[0m\u001b[0;36m0.1\u001b[0m\u001b[0;34m)\u001b[0m\u001b[0;34m\u001b[0m\u001b[0;34m\u001b[0m\u001b[0m\n\u001b[0;32m----> 3\u001b[0;31m \u001b[0mMetrics\u001b[0m\u001b[0;34m.\u001b[0m\u001b[0mprint_all\u001b[0m\u001b[0;34m(\u001b[0m\u001b[0md_test\u001b[0m\u001b[0;34m.\u001b[0m\u001b[0mlabels\u001b[0m\u001b[0;34m[\u001b[0m\u001b[0;34m:\u001b[0m\u001b[0mlen\u001b[0m\u001b[0;34m(\u001b[0m\u001b[0mpred_1\u001b[0m\u001b[0;34m)\u001b[0m\u001b[0;34m]\u001b[0m\u001b[0;34m,\u001b[0m \u001b[0mpred_1\u001b[0m\u001b[0;34m,\u001b[0m \u001b[0;34m'10% of test'\u001b[0m\u001b[0;34m)\u001b[0m\u001b[0;34m\u001b[0m\u001b[0;34m\u001b[0m\u001b[0m\n\u001b[0m",
            "\u001b[0;31mTypeError\u001b[0m: object of type 'float' has no len()"
          ]
        }
      ],
      "source": [
        "# evaluating model on 10% of test dataset\n",
        "pred_1 = model.test_on_dataset(d_test, limit=0.1)\n",
        "Metrics.print_all(d_test.labels[:len(pred_1)], pred_1, '10% of test')"
      ]
    },
    {
      "cell_type": "markdown",
      "metadata": {
        "id": "mSwvHVVzVWZ5"
      },
      "source": [
        "Пример тестирования модели на полном наборе данных:"
      ]
    },
    {
      "cell_type": "code",
      "execution_count": 68,
      "metadata": {
        "id": "mjI_sbMi3TMY",
        "colab": {
          "base_uri": "https://localhost:8080/",
          "height": 374
        },
        "outputId": "b0b6622a-a121-4547-8aa9-0b7fcfa3ae82"
      },
      "outputs": [
        {
          "output_type": "stream",
          "name": "stderr",
          "text": [
            "Testing: 100%|██████████| 141/141 [00:14<00:00,  9.81it/s]\n"
          ]
        },
        {
          "output_type": "stream",
          "name": "stdout",
          "text": [
            "Test Accuracy: 98.93%\n",
            "metrics for test:\n"
          ]
        },
        {
          "output_type": "error",
          "ename": "TypeError",
          "evalue": "object of type 'float' has no len()",
          "traceback": [
            "\u001b[0;31m---------------------------------------------------------------------------\u001b[0m",
            "\u001b[0;31mTypeError\u001b[0m                                 Traceback (most recent call last)",
            "\u001b[0;32m<ipython-input-68-04bad05bce43>\u001b[0m in \u001b[0;36m<cell line: 2>\u001b[0;34m()\u001b[0m\n\u001b[1;32m      2\u001b[0m \u001b[0;32mif\u001b[0m \u001b[0mTEST_ON_LARGE_DATASET\u001b[0m\u001b[0;34m:\u001b[0m\u001b[0;34m\u001b[0m\u001b[0;34m\u001b[0m\u001b[0m\n\u001b[1;32m      3\u001b[0m     \u001b[0mpred_2\u001b[0m \u001b[0;34m=\u001b[0m \u001b[0mmodel\u001b[0m\u001b[0;34m.\u001b[0m\u001b[0mtest_on_dataset\u001b[0m\u001b[0;34m(\u001b[0m\u001b[0md_test\u001b[0m\u001b[0;34m)\u001b[0m\u001b[0;34m\u001b[0m\u001b[0;34m\u001b[0m\u001b[0m\n\u001b[0;32m----> 4\u001b[0;31m     \u001b[0mMetrics\u001b[0m\u001b[0;34m.\u001b[0m\u001b[0mprint_all\u001b[0m\u001b[0;34m(\u001b[0m\u001b[0md_test\u001b[0m\u001b[0;34m.\u001b[0m\u001b[0mlabels\u001b[0m\u001b[0;34m,\u001b[0m \u001b[0mpred_2\u001b[0m\u001b[0;34m,\u001b[0m \u001b[0;34m'test'\u001b[0m\u001b[0;34m)\u001b[0m\u001b[0;34m\u001b[0m\u001b[0;34m\u001b[0m\u001b[0m\n\u001b[0m",
            "\u001b[0;32m<ipython-input-66-e71ce1dade46>\u001b[0m in \u001b[0;36mprint_all\u001b[0;34m(gt, pred, info)\u001b[0m\n\u001b[1;32m     13\u001b[0m     \u001b[0;32mdef\u001b[0m \u001b[0mprint_all\u001b[0m\u001b[0;34m(\u001b[0m\u001b[0mgt\u001b[0m\u001b[0;34m:\u001b[0m \u001b[0mList\u001b[0m\u001b[0;34m[\u001b[0m\u001b[0mint\u001b[0m\u001b[0;34m]\u001b[0m\u001b[0;34m,\u001b[0m \u001b[0mpred\u001b[0m\u001b[0;34m:\u001b[0m \u001b[0mList\u001b[0m\u001b[0;34m[\u001b[0m\u001b[0mint\u001b[0m\u001b[0;34m]\u001b[0m\u001b[0;34m,\u001b[0m \u001b[0minfo\u001b[0m\u001b[0;34m:\u001b[0m \u001b[0mstr\u001b[0m\u001b[0;34m)\u001b[0m\u001b[0;34m:\u001b[0m\u001b[0;34m\u001b[0m\u001b[0;34m\u001b[0m\u001b[0m\n\u001b[1;32m     14\u001b[0m         \u001b[0mprint\u001b[0m\u001b[0;34m(\u001b[0m\u001b[0;34mf'metrics for {info}:'\u001b[0m\u001b[0;34m)\u001b[0m\u001b[0;34m\u001b[0m\u001b[0;34m\u001b[0m\u001b[0m\n\u001b[0;32m---> 15\u001b[0;31m         \u001b[0mprint\u001b[0m\u001b[0;34m(\u001b[0m\u001b[0;34m'\\t accuracy {:.4f}:'\u001b[0m\u001b[0;34m.\u001b[0m\u001b[0mformat\u001b[0m\u001b[0;34m(\u001b[0m\u001b[0mMetrics\u001b[0m\u001b[0;34m.\u001b[0m\u001b[0maccuracy\u001b[0m\u001b[0;34m(\u001b[0m\u001b[0mgt\u001b[0m\u001b[0;34m,\u001b[0m \u001b[0mpred\u001b[0m\u001b[0;34m)\u001b[0m\u001b[0;34m)\u001b[0m\u001b[0;34m)\u001b[0m\u001b[0;34m\u001b[0m\u001b[0;34m\u001b[0m\u001b[0m\n\u001b[0m\u001b[1;32m     16\u001b[0m         \u001b[0mprint\u001b[0m\u001b[0;34m(\u001b[0m\u001b[0;34m'\\t balanced accuracy {:.4f}:'\u001b[0m\u001b[0;34m.\u001b[0m\u001b[0mformat\u001b[0m\u001b[0;34m(\u001b[0m\u001b[0mMetrics\u001b[0m\u001b[0;34m.\u001b[0m\u001b[0maccuracy_balanced\u001b[0m\u001b[0;34m(\u001b[0m\u001b[0mgt\u001b[0m\u001b[0;34m,\u001b[0m \u001b[0mpred\u001b[0m\u001b[0;34m)\u001b[0m\u001b[0;34m)\u001b[0m\u001b[0;34m)\u001b[0m\u001b[0;34m\u001b[0m\u001b[0;34m\u001b[0m\u001b[0m\n",
            "\u001b[0;32m<ipython-input-66-e71ce1dade46>\u001b[0m in \u001b[0;36maccuracy\u001b[0;34m(gt, pred)\u001b[0m\n\u001b[1;32m      3\u001b[0m     \u001b[0;34m@\u001b[0m\u001b[0mstaticmethod\u001b[0m\u001b[0;34m\u001b[0m\u001b[0;34m\u001b[0m\u001b[0m\n\u001b[1;32m      4\u001b[0m     \u001b[0;32mdef\u001b[0m \u001b[0maccuracy\u001b[0m\u001b[0;34m(\u001b[0m\u001b[0mgt\u001b[0m\u001b[0;34m:\u001b[0m \u001b[0mList\u001b[0m\u001b[0;34m[\u001b[0m\u001b[0mint\u001b[0m\u001b[0;34m]\u001b[0m\u001b[0;34m,\u001b[0m \u001b[0mpred\u001b[0m\u001b[0;34m:\u001b[0m \u001b[0mList\u001b[0m\u001b[0;34m[\u001b[0m\u001b[0mint\u001b[0m\u001b[0;34m]\u001b[0m\u001b[0;34m)\u001b[0m\u001b[0;34m:\u001b[0m\u001b[0;34m\u001b[0m\u001b[0;34m\u001b[0m\u001b[0m\n\u001b[0;32m----> 5\u001b[0;31m         \u001b[0;32massert\u001b[0m \u001b[0mlen\u001b[0m\u001b[0;34m(\u001b[0m\u001b[0mgt\u001b[0m\u001b[0;34m)\u001b[0m \u001b[0;34m==\u001b[0m \u001b[0mlen\u001b[0m\u001b[0;34m(\u001b[0m\u001b[0mpred\u001b[0m\u001b[0;34m)\u001b[0m\u001b[0;34m,\u001b[0m \u001b[0;34m'gt and prediction should be of equal length'\u001b[0m\u001b[0;34m\u001b[0m\u001b[0;34m\u001b[0m\u001b[0m\n\u001b[0m\u001b[1;32m      6\u001b[0m         \u001b[0;32mreturn\u001b[0m \u001b[0msum\u001b[0m\u001b[0;34m(\u001b[0m\u001b[0mint\u001b[0m\u001b[0;34m(\u001b[0m\u001b[0mi\u001b[0m\u001b[0;34m[\u001b[0m\u001b[0;36m0\u001b[0m\u001b[0;34m]\u001b[0m \u001b[0;34m==\u001b[0m \u001b[0mi\u001b[0m\u001b[0;34m[\u001b[0m\u001b[0;36m1\u001b[0m\u001b[0;34m]\u001b[0m\u001b[0;34m)\u001b[0m \u001b[0;32mfor\u001b[0m \u001b[0mi\u001b[0m \u001b[0;32min\u001b[0m \u001b[0mzip\u001b[0m\u001b[0;34m(\u001b[0m\u001b[0mgt\u001b[0m\u001b[0;34m,\u001b[0m \u001b[0mpred\u001b[0m\u001b[0;34m)\u001b[0m\u001b[0;34m)\u001b[0m \u001b[0;34m/\u001b[0m \u001b[0mlen\u001b[0m\u001b[0;34m(\u001b[0m\u001b[0mgt\u001b[0m\u001b[0;34m)\u001b[0m\u001b[0;34m\u001b[0m\u001b[0;34m\u001b[0m\u001b[0m\n\u001b[1;32m      7\u001b[0m \u001b[0;34m\u001b[0m\u001b[0m\n",
            "\u001b[0;31mTypeError\u001b[0m: object of type 'float' has no len()"
          ]
        }
      ],
      "source": [
        "# evaluating model on full test dataset (may take time)\n",
        "if TEST_ON_LARGE_DATASET:\n",
        "    pred_2 = model.test_on_dataset(d_test)\n",
        "    Metrics.print_all(d_test.labels, pred_2, 'test')"
      ]
    },
    {
      "cell_type": "markdown",
      "metadata": {
        "id": "kvyEHdxEB18o"
      },
      "source": [
        "Результат работы пайплайна обучения и тестирования выше тоже будет оцениваться. Поэтому не забудьте присылать на проверку ноутбук с выполнеными ячейками кода с демонстрациями метрик обучения, графиками и т.п. В этом пайплайне Вам необходимо продемонстрировать работу всех реализованных дополнений, улучшений и т.п.\n",
        "\n",
        "<font color=\"red\">\n",
        "Настоятельно рекомендуется после получения пайплайна с полными результатами обучения экспортировать ноутбук в pdf (файл -> печать) и прислать этот pdf вместе с самим ноутбуком.\n",
        "</font>"
      ]
    },
    {
      "cell_type": "markdown",
      "metadata": {
        "id": "RzSKAvVI6uCW"
      },
      "source": [
        "### Тестирование модели на других наборах данных\n",
        "\n",
        "Ваша модель должна поддерживать тестирование на других наборах данных. Для удобства, Вам предоставляется набор данных test_tiny, который представляет собой малую часть (2% изображений) набора test. Ниже приведен фрагмент кода, который будет осуществлять тестирование для оценивания Вашей модели на дополнительных тестовых наборах данных.\n",
        "\n",
        "<font color=\"red\">\n",
        "Прежде чем отсылать задание на проверку, убедитесь в работоспособности фрагмента кода ниже.\n",
        "</font>"
      ]
    },
    {
      "cell_type": "code",
      "execution_count": 64,
      "metadata": {
        "id": "sdY3uTt87tqv",
        "colab": {
          "base_uri": "https://localhost:8080/",
          "height": 533
        },
        "outputId": "cb3932cd-22ed-45b7-b481-5731b5f79dd5"
      },
      "outputs": [
        {
          "output_type": "stream",
          "name": "stderr",
          "text": [
            "<ipython-input-54-4bfa6062db70>:58: FutureWarning: You are using `torch.load` with `weights_only=False` (the current default value), which uses the default pickle module implicitly. It is possible to construct malicious pickle data which will execute arbitrary code during unpickling (See https://github.com/pytorch/pytorch/blob/main/SECURITY.md#untrusted-models for more details). In a future release, the default value for `weights_only` will be flipped to `True`. This limits the functions that could be executed during unpickling. Arbitrary objects will no longer be allowed to be loaded via this mode unless they are explicitly allowlisted by the user via `torch.serialization.add_safe_globals`. We recommend you start setting `weights_only=True` for any use case where you don't have full control of the loaded file. Please open an issue on GitHub for any issues related to this experimental feature.\n",
            "  self.model.load_state_dict(torch.load(f\"{name}.pth\", map_location=self.device))\n",
            "Downloading...\n",
            "From: https://drive.google.com/uc?export=download&confirm=pbef&id=1viiB0s041CNsAK4itvX8PnYthJ-MDnQc\n",
            "To: /content/test_tiny.npz\n",
            "100%|██████████| 10.6M/10.6M [00:00<00:00, 141MB/s]\n"
          ]
        },
        {
          "output_type": "stream",
          "name": "stdout",
          "text": [
            "Loading dataset test_tiny from npz.\n",
            "Done. Dataset test_tiny consists of 90 images.\n"
          ]
        },
        {
          "output_type": "stream",
          "name": "stderr",
          "text": [
            "Testing: 100%|██████████| 3/3 [00:00<00:00,  3.03it/s]"
          ]
        },
        {
          "output_type": "stream",
          "name": "stdout",
          "text": [
            "Test Accuracy: 100.00%\n",
            "metrics for test:\n"
          ]
        },
        {
          "output_type": "stream",
          "name": "stderr",
          "text": [
            "\n"
          ]
        },
        {
          "output_type": "error",
          "ename": "TypeError",
          "evalue": "Expected 'gt' to be a list, but got <class 'numpy.ndarray'>",
          "traceback": [
            "\u001b[0;31m---------------------------------------------------------------------------\u001b[0m",
            "\u001b[0;31mTypeError\u001b[0m                                 Traceback (most recent call last)",
            "\u001b[0;32m<ipython-input-64-861daf0c4a5e>\u001b[0m in \u001b[0;36m<cell line: 5>\u001b[0;34m()\u001b[0m\n\u001b[1;32m      3\u001b[0m \u001b[0md_test_tiny\u001b[0m \u001b[0;34m=\u001b[0m \u001b[0mDataset\u001b[0m\u001b[0;34m(\u001b[0m\u001b[0;34m'test_tiny'\u001b[0m\u001b[0;34m)\u001b[0m\u001b[0;34m\u001b[0m\u001b[0;34m\u001b[0m\u001b[0m\n\u001b[1;32m      4\u001b[0m \u001b[0mpred\u001b[0m \u001b[0;34m=\u001b[0m \u001b[0mmodel\u001b[0m\u001b[0;34m.\u001b[0m\u001b[0mtest_on_dataset\u001b[0m\u001b[0;34m(\u001b[0m\u001b[0md_test_tiny\u001b[0m\u001b[0;34m)\u001b[0m\u001b[0;34m\u001b[0m\u001b[0;34m\u001b[0m\u001b[0m\n\u001b[0;32m----> 5\u001b[0;31m \u001b[0mMetrics\u001b[0m\u001b[0;34m.\u001b[0m\u001b[0mprint_all\u001b[0m\u001b[0;34m(\u001b[0m\u001b[0md_test_tiny\u001b[0m\u001b[0;34m.\u001b[0m\u001b[0mlabels\u001b[0m\u001b[0;34m,\u001b[0m \u001b[0mpred\u001b[0m\u001b[0;34m,\u001b[0m \u001b[0;34m'test'\u001b[0m\u001b[0;34m)\u001b[0m\u001b[0;34m\u001b[0m\u001b[0;34m\u001b[0m\u001b[0m\n\u001b[0m",
            "\u001b[0;32m<ipython-input-60-cf55c2bac7c9>\u001b[0m in \u001b[0;36mprint_all\u001b[0;34m(gt, pred, info)\u001b[0m\n\u001b[1;32m     25\u001b[0m     \u001b[0;32mdef\u001b[0m \u001b[0mprint_all\u001b[0m\u001b[0;34m(\u001b[0m\u001b[0mgt\u001b[0m\u001b[0;34m:\u001b[0m \u001b[0mList\u001b[0m\u001b[0;34m[\u001b[0m\u001b[0mint\u001b[0m\u001b[0;34m]\u001b[0m\u001b[0;34m,\u001b[0m \u001b[0mpred\u001b[0m\u001b[0;34m:\u001b[0m \u001b[0mList\u001b[0m\u001b[0;34m[\u001b[0m\u001b[0mint\u001b[0m\u001b[0;34m]\u001b[0m\u001b[0;34m,\u001b[0m \u001b[0minfo\u001b[0m\u001b[0;34m:\u001b[0m \u001b[0mstr\u001b[0m\u001b[0;34m)\u001b[0m\u001b[0;34m:\u001b[0m\u001b[0;34m\u001b[0m\u001b[0;34m\u001b[0m\u001b[0m\n\u001b[1;32m     26\u001b[0m         \u001b[0mprint\u001b[0m\u001b[0;34m(\u001b[0m\u001b[0;34mf'metrics for {info}:'\u001b[0m\u001b[0;34m)\u001b[0m\u001b[0;34m\u001b[0m\u001b[0;34m\u001b[0m\u001b[0m\n\u001b[0;32m---> 27\u001b[0;31m         \u001b[0mprint\u001b[0m\u001b[0;34m(\u001b[0m\u001b[0;34m'\\t accuracy {:.4f}:'\u001b[0m\u001b[0;34m.\u001b[0m\u001b[0mformat\u001b[0m\u001b[0;34m(\u001b[0m\u001b[0mMetrics\u001b[0m\u001b[0;34m.\u001b[0m\u001b[0maccuracy\u001b[0m\u001b[0;34m(\u001b[0m\u001b[0mgt\u001b[0m\u001b[0;34m,\u001b[0m \u001b[0mpred\u001b[0m\u001b[0;34m)\u001b[0m\u001b[0;34m)\u001b[0m\u001b[0;34m)\u001b[0m\u001b[0;34m\u001b[0m\u001b[0;34m\u001b[0m\u001b[0m\n\u001b[0m\u001b[1;32m     28\u001b[0m         \u001b[0mprint\u001b[0m\u001b[0;34m(\u001b[0m\u001b[0;34m'\\t balanced accuracy {:.4f}:'\u001b[0m\u001b[0;34m.\u001b[0m\u001b[0mformat\u001b[0m\u001b[0;34m(\u001b[0m\u001b[0mMetrics\u001b[0m\u001b[0;34m.\u001b[0m\u001b[0maccuracy_balanced\u001b[0m\u001b[0;34m(\u001b[0m\u001b[0mgt\u001b[0m\u001b[0;34m,\u001b[0m \u001b[0mpred\u001b[0m\u001b[0;34m)\u001b[0m\u001b[0;34m)\u001b[0m\u001b[0;34m)\u001b[0m\u001b[0;34m\u001b[0m\u001b[0;34m\u001b[0m\u001b[0m\n",
            "\u001b[0;32m<ipython-input-60-cf55c2bac7c9>\u001b[0m in \u001b[0;36maccuracy\u001b[0;34m(gt, pred)\u001b[0m\n\u001b[1;32m      5\u001b[0m         \u001b[0;31m# Проверяем, что оба аргумента являются списками\u001b[0m\u001b[0;34m\u001b[0m\u001b[0;34m\u001b[0m\u001b[0m\n\u001b[1;32m      6\u001b[0m         \u001b[0;32mif\u001b[0m \u001b[0;32mnot\u001b[0m \u001b[0misinstance\u001b[0m\u001b[0;34m(\u001b[0m\u001b[0mgt\u001b[0m\u001b[0;34m,\u001b[0m \u001b[0mlist\u001b[0m\u001b[0;34m)\u001b[0m\u001b[0;34m:\u001b[0m\u001b[0;34m\u001b[0m\u001b[0;34m\u001b[0m\u001b[0m\n\u001b[0;32m----> 7\u001b[0;31m             \u001b[0;32mraise\u001b[0m \u001b[0mTypeError\u001b[0m\u001b[0;34m(\u001b[0m\u001b[0;34mf\"Expected 'gt' to be a list, but got {type(gt)}\"\u001b[0m\u001b[0;34m)\u001b[0m\u001b[0;34m\u001b[0m\u001b[0;34m\u001b[0m\u001b[0m\n\u001b[0m\u001b[1;32m      8\u001b[0m         \u001b[0;32mif\u001b[0m \u001b[0;32mnot\u001b[0m \u001b[0misinstance\u001b[0m\u001b[0;34m(\u001b[0m\u001b[0mpred\u001b[0m\u001b[0;34m,\u001b[0m \u001b[0mlist\u001b[0m\u001b[0;34m)\u001b[0m\u001b[0;34m:\u001b[0m\u001b[0;34m\u001b[0m\u001b[0;34m\u001b[0m\u001b[0m\n\u001b[1;32m      9\u001b[0m             \u001b[0;32mraise\u001b[0m \u001b[0mTypeError\u001b[0m\u001b[0;34m(\u001b[0m\u001b[0;34mf\"Expected 'pred' to be a list, but got {type(pred)}\"\u001b[0m\u001b[0;34m)\u001b[0m\u001b[0;34m\u001b[0m\u001b[0;34m\u001b[0m\u001b[0m\n",
            "\u001b[0;31mTypeError\u001b[0m: Expected 'gt' to be a list, but got <class 'numpy.ndarray'>"
          ]
        }
      ],
      "source": [
        "final_model = Model()\n",
        "final_model.load('best')\n",
        "d_test_tiny = Dataset('test_tiny')\n",
        "pred = model.test_on_dataset(d_test_tiny)\n",
        "Metrics.print_all(d_test_tiny.labels, pred, 'test')"
      ]
    },
    {
      "cell_type": "markdown",
      "metadata": {
        "id": "lPvyj4gscU10"
      },
      "source": [
        "Отмонтировать Google Drive."
      ]
    },
    {
      "cell_type": "code",
      "execution_count": null,
      "metadata": {
        "id": "NfX35zNSvFWn"
      },
      "outputs": [],
      "source": [
        "drive.flush_and_unmount()"
      ]
    },
    {
      "cell_type": "markdown",
      "metadata": {
        "id": "RMyDxCDCspcI"
      },
      "source": [
        "---\n",
        "# Дополнительные \"полезности\"\n",
        "\n",
        "Ниже приведены примеры использования различных функций и библиотек, которые могут быть полезны при выполнении данного практического задания."
      ]
    },
    {
      "cell_type": "markdown",
      "metadata": {
        "id": "VvLwSttCs1rB"
      },
      "source": [
        "### Измерение времени работы кода\n",
        "\n",
        "Измерять время работы какой-либо функции можно легко и непринужденно при помощи функции timeit из соответствующего модуля:"
      ]
    },
    {
      "cell_type": "code",
      "execution_count": null,
      "metadata": {
        "id": "-HnLVhwE9C9S"
      },
      "outputs": [],
      "source": [
        "import timeit\n",
        "\n",
        "def factorial(n):\n",
        "    res = 1\n",
        "    for i in range(1, n + 1):\n",
        "        res *= i\n",
        "    return res\n",
        "\n",
        "\n",
        "def f():\n",
        "    return factorial(n=1000)\n",
        "\n",
        "n_runs = 128\n",
        "print(f'Function f is caluclated {n_runs} times in {timeit.timeit(f, number=n_runs)}s.')"
      ]
    },
    {
      "cell_type": "markdown",
      "metadata": {
        "id": "fibGVEdguOOi"
      },
      "source": [
        "### Scikit-learn\n",
        "\n",
        "Для использования \"классических\" алгоритмов машинного обучения рекомендуется использовать библиотеку scikit-learn (https://scikit-learn.org/stable/). Пример классификации изображений цифр из набора данных MNIST при помощи классификатора SVM:"
      ]
    },
    {
      "cell_type": "code",
      "execution_count": null,
      "metadata": {
        "id": "vXHnBzEfunAO"
      },
      "outputs": [],
      "source": [
        "# Standard scientific Python imports\n",
        "import matplotlib.pyplot as plt\n",
        "\n",
        "# Import datasets, classifiers and performance metrics\n",
        "from sklearn import datasets, svm, metrics\n",
        "from sklearn.model_selection import train_test_split\n",
        "\n",
        "# The digits dataset\n",
        "digits = datasets.load_digits()\n",
        "\n",
        "# The data that we are interested in is made of 8x8 images of digits, let's\n",
        "# have a look at the first 4 images, stored in the `images` attribute of the\n",
        "# dataset.  If we were working from image files, we could load them using\n",
        "# matplotlib.pyplot.imread.  Note that each image must have the same size. For these\n",
        "# images, we know which digit they represent: it is given in the 'target' of\n",
        "# the dataset.\n",
        "_, axes = plt.subplots(2, 4)\n",
        "images_and_labels = list(zip(digits.images, digits.target))\n",
        "for ax, (image, label) in zip(axes[0, :], images_and_labels[:4]):\n",
        "    ax.set_axis_off()\n",
        "    ax.imshow(image, cmap=plt.cm.gray_r, interpolation='nearest')\n",
        "    ax.set_title('Training: %i' % label)\n",
        "\n",
        "# To apply a classifier on this data, we need to flatten the image, to\n",
        "# turn the data in a (samples, feature) matrix:\n",
        "n_samples = len(digits.images)\n",
        "data = digits.images.reshape((n_samples, -1))\n",
        "\n",
        "# Create a classifier: a support vector classifier\n",
        "classifier = svm.SVC(gamma=0.001)\n",
        "\n",
        "# Split data into train and test subsets\n",
        "X_train, X_test, y_train, y_test = train_test_split(\n",
        "    data, digits.target, test_size=0.5, shuffle=False)\n",
        "\n",
        "# We learn the digits on the first half of the digits\n",
        "classifier.fit(X_train, y_train)\n",
        "\n",
        "# Now predict the value of the digit on the second half:\n",
        "predicted = classifier.predict(X_test)\n",
        "\n",
        "images_and_predictions = list(zip(digits.images[n_samples // 2:], predicted))\n",
        "for ax, (image, prediction) in zip(axes[1, :], images_and_predictions[:4]):\n",
        "    ax.set_axis_off()\n",
        "    ax.imshow(image, cmap=plt.cm.gray_r, interpolation='nearest')\n",
        "    ax.set_title('Prediction: %i' % prediction)\n",
        "\n",
        "print(\"Classification report for classifier %s:\\n%s\\n\"\n",
        "      % (classifier, metrics.classification_report(y_test, predicted)))\n",
        "disp = metrics.plot_confusion_matrix(classifier, X_test, y_test)\n",
        "disp.figure_.suptitle(\"Confusion Matrix\")\n",
        "print(\"Confusion matrix:\\n%s\" % disp.confusion_matrix)\n",
        "\n",
        "plt.show()"
      ]
    },
    {
      "cell_type": "markdown",
      "metadata": {
        "id": "Uu3Dny5zxcVy"
      },
      "source": [
        "### Scikit-image\n",
        "\n",
        "Реализовывать различные операции для работы с изображениями можно как самостоятельно, работая с массивами numpy, так и используя специализированные библиотеки, например, scikit-image (https://scikit-image.org/). Ниже приведен пример использования Canny edge detector."
      ]
    },
    {
      "cell_type": "code",
      "execution_count": null,
      "metadata": {
        "id": "5TZvy_d7xc0B"
      },
      "outputs": [],
      "source": [
        "import numpy as np\n",
        "import matplotlib.pyplot as plt\n",
        "from scipy import ndimage as ndi\n",
        "\n",
        "from skimage import feature\n",
        "\n",
        "\n",
        "# Generate noisy image of a square\n",
        "im = np.zeros((128, 128))\n",
        "im[32:-32, 32:-32] = 1\n",
        "\n",
        "im = ndi.rotate(im, 15, mode='constant')\n",
        "im = ndi.gaussian_filter(im, 4)\n",
        "im += 0.2 * np.random.random(im.shape)\n",
        "\n",
        "# Compute the Canny filter for two values of sigma\n",
        "edges1 = feature.canny(im)\n",
        "edges2 = feature.canny(im, sigma=3)\n",
        "\n",
        "# display results\n",
        "fig, (ax1, ax2, ax3) = plt.subplots(nrows=1, ncols=3, figsize=(8, 3),\n",
        "                                    sharex=True, sharey=True)\n",
        "\n",
        "ax1.imshow(im, cmap=plt.cm.gray)\n",
        "ax1.axis('off')\n",
        "ax1.set_title('noisy image', fontsize=20)\n",
        "\n",
        "ax2.imshow(edges1, cmap=plt.cm.gray)\n",
        "ax2.axis('off')\n",
        "ax2.set_title(r'Canny filter, $\\sigma=1$', fontsize=20)\n",
        "\n",
        "ax3.imshow(edges2, cmap=plt.cm.gray)\n",
        "ax3.axis('off')\n",
        "ax3.set_title(r'Canny filter, $\\sigma=3$', fontsize=20)\n",
        "\n",
        "fig.tight_layout()\n",
        "\n",
        "plt.show()"
      ]
    },
    {
      "cell_type": "markdown",
      "metadata": {
        "id": "hiEWhGUQRGoH"
      },
      "source": [
        "### Tensorflow 2\n",
        "\n",
        "Для создания и обучения нейросетевых моделей можно использовать фреймворк глубокого обучения Tensorflow 2. Ниже приведен пример простейшей нейроной сети, использующейся для классификации изображений из набора данных MNIST."
      ]
    },
    {
      "cell_type": "code",
      "execution_count": null,
      "metadata": {
        "id": "kDwLG7A1ReNy"
      },
      "outputs": [],
      "source": [
        "# Install TensorFlow\n",
        "\n",
        "import tensorflow as tf\n",
        "\n",
        "mnist = tf.keras.datasets.mnist\n",
        "\n",
        "(x_train, y_train), (x_test, y_test) = mnist.load_data()\n",
        "x_train, x_test = x_train / 255.0, x_test / 255.0\n",
        "\n",
        "model = tf.keras.models.Sequential([\n",
        "  tf.keras.layers.Flatten(input_shape=(28, 28)),\n",
        "  tf.keras.layers.Dense(128, activation='relu'),\n",
        "  tf.keras.layers.Dropout(0.2),\n",
        "  tf.keras.layers.Dense(10, activation='softmax')\n",
        "])\n",
        "\n",
        "model.compile(optimizer='adam',\n",
        "              loss='sparse_categorical_crossentropy',\n",
        "              metrics=['accuracy'])\n",
        "\n",
        "model.fit(x_train, y_train, epochs=5)\n",
        "\n",
        "model.evaluate(x_test,  y_test, verbose=2)"
      ]
    },
    {
      "cell_type": "markdown",
      "metadata": {
        "id": "IbvktmLwRu8g"
      },
      "source": [
        "<font color=\"red\">\n",
        "Для эффективной работы с моделями глубокого обучения убедитесь в том, что в текущей среде Google Colab используется аппаратный ускоритель GPU или TPU. Для смены среды выберите \"среда выполнения\" -> \"сменить среду выполнения\".\n",
        "</font>"
      ]
    },
    {
      "cell_type": "markdown",
      "metadata": {
        "id": "nJVNOOU9Sjyf"
      },
      "source": [
        "Большое количество туториалов и примеров с кодом на Tensorflow 2 можно найти на официальном сайте https://www.tensorflow.org/tutorials?hl=ru."
      ]
    },
    {
      "cell_type": "markdown",
      "metadata": {
        "id": "GVPs3pYpS0U1"
      },
      "source": [
        "Также, Вам может понадобиться написать собственный генератор данных для Tensorflow 2. Скорее всего он будет достаточно простым, и его легко можно будет реализовать, используя официальную документацию TensorFlow 2. Но, на всякий случай (если не удлось сразу разобраться или хочется вникнуть в тему более глубоко), можете посмотреть следующий отличный туториал: https://stanford.edu/~shervine/blog/keras-how-to-generate-data-on-the-fly."
      ]
    },
    {
      "cell_type": "markdown",
      "metadata": {
        "id": "lwI-T0IXyN84"
      },
      "source": [
        "### Numba\n",
        "\n",
        "В некоторых ситуациях, при ручных реализациях графовых алгоритмов, выполнение многократных вложенных циклов for в python можно существенно ускорить, используя JIT-компилятор Numba (https://numba.pydata.org/).\n",
        "Примеры использования Numba в Google Colab можно найти тут:\n",
        "1. https://colab.research.google.com/github/cbernet/maldives/blob/master/numba/numba_cuda.ipynb\n",
        "2. https://colab.research.google.com/github/evaneschneider/parallel-programming/blob/master/COMPASS_gpu_intro.ipynb\n",
        "\n",
        "> Пожалуйста, если Вы решили использовать Numba для решения этого практического задания, еще раз подумайте, нужно ли это Вам, и есть ли возможность реализовать требуемую функциональность иным способом. Используйте Numba только при реальной необходимости.\n",
        "\n"
      ]
    },
    {
      "cell_type": "markdown",
      "metadata": {
        "id": "BxAJ00A76LcF"
      },
      "source": [
        "### Работа с zip архивами в Google Drive\n",
        "\n",
        "Запаковка и распаковка zip архивов может пригодиться при сохранении и загрузки Вашей модели. Ниже приведен фрагмент кода, иллюстрирующий помещение нескольких файлов в zip архив с последующим чтением файлов из него. Все действия с директориями, файлами и архивами должны осущетвляться с примонтированным Google Drive.\n"
      ]
    },
    {
      "cell_type": "markdown",
      "metadata": {
        "id": "ZJiKndOpPu_e"
      },
      "source": [
        "Создадим 2 изображения, поместим их в директорию tmp внутри PROJECT_DIR, запакуем директорию tmp в архив tmp.zip."
      ]
    },
    {
      "cell_type": "code",
      "execution_count": null,
      "metadata": {
        "id": "CRwgPtv-6nMP"
      },
      "outputs": [],
      "source": [
        "PROJECT_DIR = \"/dev/prak_nn_1/\"\n",
        "arr1 = np.random.rand(100, 100, 3) * 255\n",
        "arr2 = np.random.rand(100, 100, 3) * 255\n",
        "\n",
        "img1 = Image.fromarray(arr1.astype('uint8'))\n",
        "img2 = Image.fromarray(arr2.astype('uint8'))\n",
        "\n",
        "p = \"/content/drive/MyDrive/\" + PROJECT_DIR\n",
        "\n",
        "if not (Path(p) / 'tmp').exists():\n",
        "    (Path(p) / 'tmp').mkdir()\n",
        "\n",
        "img1.save(str(Path(p) / 'tmp' / 'img1.png'))\n",
        "img2.save(str(Path(p) / 'tmp' / 'img2.png'))\n",
        "\n",
        "%cd $p\n",
        "!zip -r \"tmp.zip\" \"tmp\""
      ]
    },
    {
      "cell_type": "markdown",
      "metadata": {
        "id": "MykrBSWNQQlq"
      },
      "source": [
        "Распакуем архив tmp.zip в директорию tmp2 в PROJECT_DIR. Теперь внутри директории tmp2 содержится директория tmp, внутри которой находятся 2 изображения."
      ]
    },
    {
      "cell_type": "code",
      "execution_count": null,
      "metadata": {
        "id": "CwSWrYIWMAus"
      },
      "outputs": [],
      "source": [
        "p = \"/content/drive/MyDrive/\" + PROJECT_DIR\n",
        "%cd $p\n",
        "!unzip -uq \"tmp.zip\" -d \"tmp2\""
      ]
    }
  ],
  "metadata": {
    "accelerator": "GPU",
    "colab": {
      "provenance": [],
      "gpuType": "T4"
    },
    "kernelspec": {
      "display_name": "Python 3",
      "name": "python3"
    },
    "language_info": {
      "name": "python",
      "version": "3.10.4"
    },
    "vscode": {
      "interpreter": {
        "hash": "7af69d84c46e0da4f71f361435e72c01e713b5d1fcbc89c051c042527a934273"
      }
    }
  },
  "nbformat": 4,
  "nbformat_minor": 0
}